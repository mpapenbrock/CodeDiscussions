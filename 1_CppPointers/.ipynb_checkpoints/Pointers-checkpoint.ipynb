{
 "cells": [
  {
   "cell_type": "markdown",
   "metadata": {},
   "source": [
    "# What this talk is and isn't\n",
    "\n",
    "### I will discuss\n",
    "* The concept\n",
    "* Basic syntax\n",
    "\n",
    "### I will not discuss\n",
    "* Best practices.\n",
    "* Dynamic memory allocation/management\n",
    "\n",
    "**Disclaimer** Material shamelessly stolen from [here](https://www.cplusplus.com/doc/tutorial/pointers/)"
   ]
  },
  {
   "cell_type": "markdown",
   "metadata": {},
   "source": [
    "## C++ and Memory\n",
    "* Memory consists of one-byte cells\n",
    "* Each cell has an address\n",
    "* Data we store occupies one or more consecutive cells"
   ]
  },
  {
   "cell_type": "code",
   "execution_count": null,
   "metadata": {},
   "outputs": [],
   "source": [
    "myvar=25;"
   ]
  },
  {
   "cell_type": "markdown",
   "metadata": {},
   "source": [
    "![](myvarmemory.png)"
   ]
  },
  {
   "cell_type": "markdown",
   "metadata": {},
   "source": [
    "The **value** is 25. The **address** is 1776."
   ]
  },
  {
   "cell_type": "markdown",
   "metadata": {},
   "source": [
    "## Address-of operator (&)"
   ]
  },
  {
   "cell_type": "code",
   "execution_count": null,
   "metadata": {},
   "outputs": [],
   "source": [
    "foo = &myvar;\n",
    "bar = myvar;"
   ]
  },
  {
   "cell_type": "markdown",
   "metadata": {},
   "source": [
    "![](myvarfoobar.png)"
   ]
  },
  {
   "cell_type": "markdown",
   "metadata": {},
   "source": [
    "## Dereference/value-pointed-to-by operator (*)"
   ]
  },
  {
   "cell_type": "code",
   "execution_count": null,
   "metadata": {},
   "outputs": [],
   "source": [
    "baz = *foo;"
   ]
  },
  {
   "cell_type": "markdown",
   "metadata": {},
   "source": [
    "![](foobaz.png)"
   ]
  },
  {
   "cell_type": "markdown",
   "metadata": {},
   "source": [
    "## Declaring Pointers\n",
    "In order to properly dereference, we need to know what type of data we are pointing to."
   ]
  },
  {
   "cell_type": "code",
   "execution_count": null,
   "metadata": {},
   "outputs": [],
   "source": [
    "int * integer;\n",
    "char * character;\n",
    "double * decimals:"
   ]
  },
  {
   "cell_type": "markdown",
   "metadata": {},
   "source": [
    "* The **type** refers to the data, not the pointer  \n",
    "* The asterisk here is **NOT** the dereference operator. It only indicates that the variable is a pointer.\n",
    "\n",
    "If you want to declare two pointers together:"
   ]
  },
  {
   "cell_type": "code",
   "execution_count": null,
   "metadata": {},
   "outputs": [],
   "source": [
    "int * p1, p2; // p1 is a pointer, p2 is an int\n",
    "int * p1, * p2; // Both are pointers"
   ]
  },
  {
   "cell_type": "markdown",
   "metadata": {},
   "source": [
    "## Examples\n",
    "\n",
    "### Something straightforward"
   ]
  },
  {
   "cell_type": "code",
   "execution_count": 5,
   "metadata": {
    "scrolled": true
   },
   "outputs": [
    {
     "name": "stdout",
     "output_type": "stream",
     "text": [
      "value1 = 10\n",
      "value2 = 20\n"
     ]
    }
   ],
   "source": [
    "int value1, value2;\n",
    "int * mypointer;\n",
    "\n",
    "mypointer = &value1;\n",
    "*mypointer = 10;\n",
    "mypointer = &value2;\n",
    "*mypointer = 20;\n",
    "\n",
    "cout << \"value1 = \" << value1 << endl;\n",
    "cout << \"value2 = \" << value2 << endl;"
   ]
  },
  {
   "cell_type": "markdown",
   "metadata": {},
   "source": [
    "### Something slightly more tricky"
   ]
  },
  {
   "cell_type": "code",
   "execution_count": 7,
   "metadata": {},
   "outputs": [
    {
     "name": "stdout",
     "output_type": "stream",
     "text": [
      "value1 = 17\n",
      "value2 = 12\n"
     ]
    }
   ],
   "source": [
    "int value1 = 1, value2 = 2;\n",
    "int * p1, * p2;\n",
    "\n",
    "p1 = &value1;\n",
    "p2 = &value2;\n",
    "*p1 = 17;\n",
    "*p2 = *p1;\n",
    "p1 = p2;\n",
    "*p1 = 12;\n",
    "\n",
    "cout << \"value1 = \" << value1 << endl;\n",
    "cout << \"value2 = \" << value2 << endl;"
   ]
  },
  {
   "cell_type": "markdown",
   "metadata": {},
   "source": [
    "## Arrays and Pointers\n",
    "Arrays work like (but are not just) pointers to their first element. So with"
   ]
  },
  {
   "cell_type": "code",
   "execution_count": 4,
   "metadata": {},
   "outputs": [],
   "source": [
    "int myarray[5];\n",
    "int * pointer;"
   ]
  },
  {
   "cell_type": "markdown",
   "metadata": {},
   "source": [
    "You can do"
   ]
  },
  {
   "cell_type": "code",
   "execution_count": 5,
   "metadata": {},
   "outputs": [],
   "source": [
    "pointer = myarray; // pointer now points to array[0]"
   ]
  },
  {
   "cell_type": "markdown",
   "metadata": {},
   "source": [
    "But not"
   ]
  },
  {
   "cell_type": "code",
   "execution_count": null,
   "metadata": {},
   "outputs": [],
   "source": [
    "array = pointer; // This will give an error"
   ]
  },
  {
   "cell_type": "markdown",
   "metadata": {},
   "source": [
    "### Example"
   ]
  },
  {
   "cell_type": "code",
   "execution_count": 6,
   "metadata": {},
   "outputs": [
    {
     "name": "stdout",
     "output_type": "stream",
     "text": [
      "10, 20, 30, 40, 50, "
     ]
    }
   ],
   "source": [
    "*pointer = 10;\n",
    "pointer++; *pointer = 20;\n",
    "pointer = &myarray[2]; *pointer = 30;\n",
    "pointer = myarray + 3; *pointer = 40;\n",
    "pointer = myarray; *(pointer+4) = 50;\n",
    "\n",
    "\n",
    "for (int i=0; i<5; i++) cout << myarray[i] << \", \";"
   ]
  },
  {
   "cell_type": "markdown",
   "metadata": {},
   "source": [
    "In fact the square brackets \"[]\" are a dereferencing operator known as the \"offset operator\". The following two expressions are equivalent:"
   ]
  },
  {
   "cell_type": "code",
   "execution_count": null,
   "metadata": {},
   "outputs": [],
   "source": [
    "arr[5] = 0;  \n",
    "*(arr+5) = 0;"
   ]
  },
  {
   "cell_type": "markdown",
   "metadata": {},
   "source": [
    "## Invalid pointers and null pointers\n",
    "\n",
    "Pointers are do not need to point at anything, and are allowed to point addresses where there is nothing. Both of the following statements are OK!"
   ]
  },
  {
   "cell_type": "code",
   "execution_count": 19,
   "metadata": {},
   "outputs": [],
   "source": [
    "int * p;\n",
    "\n",
    "int array[10];\n",
    "int * q = array + 20; // index of out bounds;"
   ]
  },
  {
   "cell_type": "markdown",
   "metadata": {},
   "source": [
    "If you want to make sure that your pointer points at *nothing*, you can assign it the *null pointer value*"
   ]
  },
  {
   "cell_type": "code",
   "execution_count": 22,
   "metadata": {},
   "outputs": [
    {
     "name": "stdout",
     "output_type": "stream",
     "text": [
      "0 0\n"
     ]
    }
   ],
   "source": [
    "int * p = 0;\n",
    "int * q = nullptr;\n",
    "\n",
    "cout << p << \" \" << q << endl;\n",
    "//cout << *p << \" \" << *q << endl;"
   ]
  },
  {
   "cell_type": "markdown",
   "metadata": {},
   "source": [
    "**NB** Not to be confused with *void pointers* that point to *something* without specifying the type."
   ]
  },
  {
   "cell_type": "markdown",
   "metadata": {},
   "source": [
    "## A use case\n",
    "\n",
    "Let's say you want a function to modify its inputs."
   ]
  },
  {
   "cell_type": "code",
   "execution_count": 18,
   "metadata": {},
   "outputs": [
    {
     "name": "stdout",
     "output_type": "stream",
     "text": [
      "a = 2, b = 3\n"
     ]
    }
   ],
   "source": [
    "\n",
    "\n",
    "void increment(int a, int b)\n",
    "{\n",
    " a;\n",
    " b;\n",
    "}\n",
    "     \n",
    "int a = 1, b = 2;\n",
    "increment(a, b);\n",
    "cout << \"a = \" << a << \", b = \" << b << endl;\n"
   ]
  },
  {
   "cell_type": "markdown",
   "metadata": {},
   "source": [
    "### Passing arrays as arguments"
   ]
  },
  {
   "cell_type": "code",
   "execution_count": 34,
   "metadata": {
    "scrolled": true
   },
   "outputs": [
    {
     "name": "stdout",
     "output_type": "stream",
     "text": [
      "10"
     ]
    }
   ],
   "source": [
    "\n",
    "int sumOverArray(int* start, int* stop)\n",
    "{\n",
    "    int * current = start;\n",
    "    int sum = 0;\n",
    "    while (current != stop){\n",
    "        sum += *current;\n",
    "        ++current;\n",
    "    }\n",
    "    return sum;\n",
    "}\n",
    "\n",
    "int a[5] = {1,2,3,4,5};\n",
    "int sum = sumOverArray(a, a+4);\n",
    "cout << sum;\n",
    "\n"
   ]
  },
  {
   "cell_type": "markdown",
   "metadata": {},
   "source": [
    "### Combo:"
   ]
  },
  {
   "cell_type": "code",
   "execution_count": 3,
   "metadata": {},
   "outputs": [
    {
     "name": "stdout",
     "output_type": "stream",
     "text": [
      "1, 3, 5, 7, 9, "
     ]
    }
   ],
   "source": [
    "\n",
    "void sumArrays(int* array1, int* array2, int* sumArray, int size) {\n",
    "    for (int i =0; i < size; i++) {\n",
    "        sumArray[i] = array1[i]+array2[i];\n",
    "    }\n",
    "    return;\n",
    "}\n",
    "\n",
    "int a[5] = {1,2,3,4,5};\n",
    "int b[5] = {0,1,2,3,4};\n",
    "int c[5];\n",
    "\n",
    "sumArrays(a,b,c,5);\n",
    "for (int i=0; i<5; i++) cout << c[i] << \", \";\n"
   ]
  },
  {
   "cell_type": "markdown",
   "metadata": {},
   "source": [
    "## Bonus: Pointers to functions"
   ]
  },
  {
   "cell_type": "code",
   "execution_count": 25,
   "metadata": {},
   "outputs": [],
   "source": [
    "int addition (int a, int b)\n",
    "{ return (a+b); }"
   ]
  },
  {
   "cell_type": "code",
   "execution_count": 26,
   "metadata": {},
   "outputs": [],
   "source": [
    "int subtraction (int a, int b)\n",
    "{ return (a-b); }"
   ]
  },
  {
   "cell_type": "code",
   "execution_count": 27,
   "metadata": {},
   "outputs": [],
   "source": [
    "int operation (int x, int y, int (*functocall)(int,int))\n",
    "{\n",
    "  int g;\n",
    "  g = (*functocall)(x,y);\n",
    "  return (g);\n",
    "}"
   ]
  },
  {
   "cell_type": "code",
   "execution_count": 32,
   "metadata": {},
   "outputs": [
    {
     "name": "stdout",
     "output_type": "stream",
     "text": [
      "12\n",
      "8\n"
     ]
    }
   ],
   "source": [
    "int m,n;\n",
    "int (*minus)(int,int) = subtraction;\n",
    "\n",
    "m = operation (7, 5, addition);\n",
    "n = operation (20, m, minus);\n",
    "cout <<m << endl;\n",
    "cout <<n << endl;"
   ]
  },
  {
   "cell_type": "code",
   "execution_count": null,
   "metadata": {},
   "outputs": [],
   "source": []
  }
 ],
 "metadata": {
  "kernelspec": {
   "display_name": "ROOT C++",
   "language": "c++",
   "name": "root"
  },
  "language_info": {
   "codemirror_mode": "text/x-c++src",
   "file_extension": ".C",
   "mimetype": " text/x-c++src",
   "name": "c++"
  }
 },
 "nbformat": 4,
 "nbformat_minor": 4
}
